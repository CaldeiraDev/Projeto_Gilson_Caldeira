{
  "cells": [
    {
      "cell_type": "markdown",
      "metadata": {
        "id": "view-in-github",
        "colab_type": "text"
      },
      "source": [
        "<a href=\"https://colab.research.google.com/github/CaldeiraDev/Projeto_Gilson_Caldeira/blob/main/Projeto_Gilson_Caldeira.ipynb\" target=\"_parent\"><img src=\"https://colab.research.google.com/assets/colab-badge.svg\" alt=\"Open In Colab\"/></a>"
      ]
    },
    {
      "cell_type": "code",
      "source": [
        "! pip install google-genai"
      ],
      "metadata": {
        "id": "l0-Z_iZqukSV",
        "outputId": "252f87a9-b27a-4012-a1fb-6d42986abba6",
        "colab": {
          "base_uri": "https://localhost:8080/"
        }
      },
      "execution_count": null,
      "outputs": [
        {
          "output_type": "stream",
          "name": "stdout",
          "text": [
            "Requirement already satisfied: google-genai in /usr/local/lib/python3.11/dist-packages (1.15.0)\n",
            "Requirement already satisfied: anyio<5.0.0,>=4.8.0 in /usr/local/lib/python3.11/dist-packages (from google-genai) (4.9.0)\n",
            "Requirement already satisfied: google-auth<3.0.0,>=2.14.1 in /usr/local/lib/python3.11/dist-packages (from google-genai) (2.38.0)\n",
            "Requirement already satisfied: httpx<1.0.0,>=0.28.1 in /usr/local/lib/python3.11/dist-packages (from google-genai) (0.28.1)\n",
            "Requirement already satisfied: pydantic<3.0.0,>=2.0.0 in /usr/local/lib/python3.11/dist-packages (from google-genai) (2.11.4)\n",
            "Requirement already satisfied: requests<3.0.0,>=2.28.1 in /usr/local/lib/python3.11/dist-packages (from google-genai) (2.32.3)\n",
            "Requirement already satisfied: websockets<15.1.0,>=13.0.0 in /usr/local/lib/python3.11/dist-packages (from google-genai) (15.0.1)\n",
            "Requirement already satisfied: typing-extensions<5.0.0,>=4.11.0 in /usr/local/lib/python3.11/dist-packages (from google-genai) (4.13.2)\n",
            "Requirement already satisfied: idna>=2.8 in /usr/local/lib/python3.11/dist-packages (from anyio<5.0.0,>=4.8.0->google-genai) (3.10)\n",
            "Requirement already satisfied: sniffio>=1.1 in /usr/local/lib/python3.11/dist-packages (from anyio<5.0.0,>=4.8.0->google-genai) (1.3.1)\n",
            "Requirement already satisfied: cachetools<6.0,>=2.0.0 in /usr/local/lib/python3.11/dist-packages (from google-auth<3.0.0,>=2.14.1->google-genai) (5.5.2)\n",
            "Requirement already satisfied: pyasn1-modules>=0.2.1 in /usr/local/lib/python3.11/dist-packages (from google-auth<3.0.0,>=2.14.1->google-genai) (0.4.2)\n",
            "Requirement already satisfied: rsa<5,>=3.1.4 in /usr/local/lib/python3.11/dist-packages (from google-auth<3.0.0,>=2.14.1->google-genai) (4.9.1)\n",
            "Requirement already satisfied: certifi in /usr/local/lib/python3.11/dist-packages (from httpx<1.0.0,>=0.28.1->google-genai) (2025.4.26)\n",
            "Requirement already satisfied: httpcore==1.* in /usr/local/lib/python3.11/dist-packages (from httpx<1.0.0,>=0.28.1->google-genai) (1.0.9)\n",
            "Requirement already satisfied: h11>=0.16 in /usr/local/lib/python3.11/dist-packages (from httpcore==1.*->httpx<1.0.0,>=0.28.1->google-genai) (0.16.0)\n",
            "Requirement already satisfied: annotated-types>=0.6.0 in /usr/local/lib/python3.11/dist-packages (from pydantic<3.0.0,>=2.0.0->google-genai) (0.7.0)\n",
            "Requirement already satisfied: pydantic-core==2.33.2 in /usr/local/lib/python3.11/dist-packages (from pydantic<3.0.0,>=2.0.0->google-genai) (2.33.2)\n",
            "Requirement already satisfied: typing-inspection>=0.4.0 in /usr/local/lib/python3.11/dist-packages (from pydantic<3.0.0,>=2.0.0->google-genai) (0.4.0)\n",
            "Requirement already satisfied: charset-normalizer<4,>=2 in /usr/local/lib/python3.11/dist-packages (from requests<3.0.0,>=2.28.1->google-genai) (3.4.2)\n",
            "Requirement already satisfied: urllib3<3,>=1.21.1 in /usr/local/lib/python3.11/dist-packages (from requests<3.0.0,>=2.28.1->google-genai) (2.4.0)\n",
            "Requirement already satisfied: pyasn1<0.7.0,>=0.6.1 in /usr/local/lib/python3.11/dist-packages (from pyasn1-modules>=0.2.1->google-auth<3.0.0,>=2.14.1->google-genai) (0.6.1)\n"
          ]
        }
      ]
    },
    {
      "cell_type": "code",
      "source": [
        "import os\n",
        "from google.colab import userdata\n",
        "os.environ['GOOGLE_API_KEY'] = userdata.get('GOOGLE_API_KEY')"
      ],
      "metadata": {
        "id": "DgiXgS2hvtIx"
      },
      "execution_count": null,
      "outputs": []
    },
    {
      "cell_type": "code",
      "source": [
        "from google import genai\n",
        "client = genai.Client()"
      ],
      "metadata": {
        "id": "t6jgepl8x6KD"
      },
      "execution_count": null,
      "outputs": []
    },
    {
      "cell_type": "code",
      "source": [
        "for model in client.models.list():\n",
        "  print(model.name)"
      ],
      "metadata": {
        "id": "LTlXCCzpyKli",
        "outputId": "c2aff8aa-40e0-4927-876f-7b1286844eff",
        "colab": {
          "base_uri": "https://localhost:8080/"
        }
      },
      "execution_count": null,
      "outputs": [
        {
          "output_type": "stream",
          "name": "stdout",
          "text": [
            "models/embedding-gecko-001\n",
            "models/gemini-1.0-pro-vision-latest\n",
            "models/gemini-pro-vision\n",
            "models/gemini-1.5-pro-latest\n",
            "models/gemini-1.5-pro-001\n",
            "models/gemini-1.5-pro-002\n",
            "models/gemini-1.5-pro\n",
            "models/gemini-1.5-flash-latest\n",
            "models/gemini-1.5-flash-001\n",
            "models/gemini-1.5-flash-001-tuning\n",
            "models/gemini-1.5-flash\n",
            "models/gemini-1.5-flash-002\n",
            "models/gemini-1.5-flash-8b\n",
            "models/gemini-1.5-flash-8b-001\n",
            "models/gemini-1.5-flash-8b-latest\n",
            "models/gemini-1.5-flash-8b-exp-0827\n",
            "models/gemini-1.5-flash-8b-exp-0924\n",
            "models/gemini-2.5-pro-exp-03-25\n",
            "models/gemini-2.5-pro-preview-03-25\n",
            "models/gemini-2.5-flash-preview-04-17\n",
            "models/gemini-2.5-flash-preview-04-17-thinking\n",
            "models/gemini-2.5-pro-preview-05-06\n",
            "models/gemini-2.0-flash-exp\n",
            "models/gemini-2.0-flash\n",
            "models/gemini-2.0-flash-001\n",
            "models/gemini-2.0-flash-exp-image-generation\n",
            "models/gemini-2.0-flash-lite-001\n",
            "models/gemini-2.0-flash-lite\n",
            "models/gemini-2.0-flash-preview-image-generation\n",
            "models/gemini-2.0-flash-lite-preview-02-05\n",
            "models/gemini-2.0-flash-lite-preview\n",
            "models/gemini-2.0-pro-exp\n",
            "models/gemini-2.0-pro-exp-02-05\n",
            "models/gemini-exp-1206\n",
            "models/gemini-2.0-flash-thinking-exp-01-21\n",
            "models/gemini-2.0-flash-thinking-exp\n",
            "models/gemini-2.0-flash-thinking-exp-1219\n",
            "models/learnlm-2.0-flash-experimental\n",
            "models/gemma-3-1b-it\n",
            "models/gemma-3-4b-it\n",
            "models/gemma-3-12b-it\n",
            "models/gemma-3-27b-it\n",
            "models/embedding-001\n",
            "models/text-embedding-004\n",
            "models/gemini-embedding-exp-03-07\n",
            "models/gemini-embedding-exp\n",
            "models/aqa\n",
            "models/imagen-3.0-generate-002\n",
            "models/gemini-2.0-flash-live-001\n"
          ]
        }
      ]
    },
    {
      "cell_type": "markdown",
      "source": [],
      "metadata": {
        "id": "-8jNFKnEy0ZI"
      }
    },
    {
      "cell_type": "code",
      "source": [
        "modelo = \"gemini-2.0-flash\"\n",
        "resposta = client.models.generate_content(model=modelo,\n",
        "                                          contents=\"Qual o nome de quem está criando esse código?\")"
      ],
      "metadata": {
        "id": "ouxL_x7_zToC"
      },
      "execution_count": null,
      "outputs": []
    },
    {
      "cell_type": "code",
      "source": [
        "resposta.text"
      ],
      "metadata": {
        "id": "ySxXWZmG00s-",
        "outputId": "bc885582-6c19-4931-cedb-7159fc2503a8",
        "colab": {
          "base_uri": "https://localhost:8080/",
          "height": 35
        }
      },
      "execution_count": null,
      "outputs": [
        {
          "output_type": "execute_result",
          "data": {
            "text/plain": [
              "'Eu sou um modelo de linguagem grande, treinado pelo Google. Portanto, não tenho um nome no sentido tradicional.'"
            ],
            "application/vnd.google.colaboratory.intrinsic+json": {
              "type": "string"
            }
          },
          "metadata": {},
          "execution_count": 8
        }
      ]
    },
    {
      "cell_type": "code",
      "source": [
        "# Célula 1: Instalação de Bibliotecas (Opcional)\n",
        "# Para este agente inicial, não precisaremos de bibliotecas externas complexas.\n",
        "# Mas, se quiséssemos expandir com NLP mais avançado, poderíamos instalar aqui.\n",
        "# Exemplo: !pip install nltk spacy\n",
        "print(\"Célula 1 executada: Preparação do ambiente (nenhuma instalação necessária por enquanto).\")"
      ],
      "metadata": {
        "id": "1uxbTYyn82w-",
        "outputId": "753a7d13-2d84-4e6b-cb4b-0498d6057822",
        "colab": {
          "base_uri": "https://localhost:8080/"
        }
      },
      "execution_count": null,
      "outputs": [
        {
          "output_type": "stream",
          "name": "stdout",
          "text": [
            "Célula 1 executada: Preparação do ambiente (nenhuma instalação necessária por enquanto).\n"
          ]
        }
      ]
    },
    {
      "cell_type": "code",
      "source": [
        "# Célula 2: Definição da Persona e Disclaimer Essencial\n",
        "\n",
        "def obter_disclaimer_medico():\n",
        "    \"\"\"Retorna o disclaimer padrão enfatizando a necessidade de consulta médica.\"\"\"\n",
        "    return (\n",
        "        \"\\n\\n\"\n",
        "        \"⚠️ **IMPORTANTE:** Estas informações são fornecidas com base em conhecimentos da medicina tradicional \"\n",
        "        \"e têm caráter meramente informativo e educacional. Elas **NÃO substituem, de forma alguma,** \"\n",
        "        \"a consulta, o diagnóstico e o tratamento realizado por um médico qualificado ou outro profissional de saúde. \"\n",
        "        \"**Sempre procure orientação médica profissional para qualquer questão de saúde.** Não adie ou ignore \"\n",
        "        \"o aconselhamento médico por algo que você leu aqui.\"\n",
        "    )\n",
        "\n",
        "def introducao_agente():\n",
        "    \"\"\"Retorna uma saudação e introdução da persona do agente.\"\"\"\n",
        "    return (\n",
        "        \"Olá! Sou seu assistente de IA focado em medicina tradicional. \"\n",
        "        \"Minha missão é compartilhar conhecimentos ancestrais e populares sobre bem-estar e saúde, \"\n",
        "        \"de forma clara e criativa. Estou aqui para oferecer informações, mas lembre-se sempre da importância \"\n",
        "        \"do acompanhamento médico profissional.\"\n",
        "    )\n",
        "\n",
        "print(\"Célula 2 executada: Funções de disclaimer e introdução da persona definidas.\")\n",
        "print(introducao_agente())\n",
        "print(obter_disclaimer_medico())"
      ],
      "metadata": {
        "id": "B9IGjSk09Bsj",
        "outputId": "f0b2a220-437d-4ae6-d153-98542ea0fa88",
        "colab": {
          "base_uri": "https://localhost:8080/"
        }
      },
      "execution_count": null,
      "outputs": [
        {
          "output_type": "stream",
          "name": "stdout",
          "text": [
            "Célula 2 executada: Funções de disclaimer e introdução da persona definidas.\n",
            "Olá! Sou seu assistente de IA focado em medicina tradicional. Minha missão é compartilhar conhecimentos ancestrais e populares sobre bem-estar e saúde, de forma clara e criativa. Estou aqui para oferecer informações, mas lembre-se sempre da importância do acompanhamento médico profissional.\n",
            "\n",
            "\n",
            "⚠️ **IMPORTANTE:** Estas informações são fornecidas com base em conhecimentos da medicina tradicional e têm caráter meramente informativo e educacional. Elas **NÃO substituem, de forma alguma,** a consulta, o diagnóstico e o tratamento realizado por um médico qualificado ou outro profissional de saúde. **Sempre procure orientação médica profissional para qualquer questão de saúde.** Não adie ou ignore o aconselhamento médico por algo que você leu aqui.\n"
          ]
        }
      ]
    },
    {
      "cell_type": "code",
      "source": [
        "# Célula 3: Criação da Base de Conhecimento sobre Medicina Tradicional\n",
        "# Esta é uma base de conhecimento simplificada. Em um sistema real, isso seria\n",
        "# muito mais extenso e possivelmente viria de um banco de dados ou arquivos externos.\n",
        "\n",
        "base_conhecimento_tradicional = {\n",
        "    \"dor de cabeça\": {\n",
        "        \"descricao_criativa\": \"A dor de cabeça, esse incômodo que às vezes parece um tambor rufando em nossa mente, pode ter diversas origens. Na visão tradicional, muitas vezes está ligada a tensões, desequilíbrios energéticos ou até mesmo à alimentação.\",\n",
        "        \"abordagens_tradicionais\": [\n",
        "            \"Chá de camomila ou erva-cidreira: conhecidos por suas propriedades calmantes.\",\n",
        "            \"Compressas frias na testa ou nuca.\",\n",
        "            \"Massagem suave nas têmporas e pescoço.\",\n",
        "            \"Evitar ambientes muito barulhentos ou com luz excessiva.\"\n",
        "        ],\n",
        "        \"observacao_especifica\": \"Dores de cabeça persistentes ou muito intensas requerem avaliação médica para descartar causas mais sérias.\"\n",
        "    },\n",
        "    \"insônia\": {\n",
        "        \"descricao_criativa\": \"A insônia, essa visitante noturna indesejada que nos rouba o descanso, é vista tradicionalmente como um sinal de mente agitada ou desarmonia interna.\",\n",
        "        \"abordagens_tradicionais\": [\n",
        "            \"Chá de maracujá (folhas) ou valeriana: conhecidos por induzir o relaxamento.\",\n",
        "            \"Leite morno com uma pitada de noz-moscada (em algumas tradições).\",\n",
        "            \"Criar um ritual relaxante antes de dormir: banho morno, leitura leve.\",\n",
        "            \"Evitar cafeína e refeições pesadas à noite.\"\n",
        "        ],\n",
        "        \"observacao_especifica\": \"A insônia crônica pode impactar significativamente sua saúde. Um médico pode ajudar a identificar a causa e o melhor tratamento.\"\n",
        "    },\n",
        "    \"gripe comum\": {\n",
        "        \"descricao_criativa\": \"A gripe, essa conhecida sensação de corpo mole e nariz escorrendo, é um chamado do corpo para repouso e cuidado. As tradições antigas focam em fortalecer o corpo para combater o mal-estar.\",\n",
        "        \"abordagens_tradicionais\": [\n",
        "            \"Chá de limão com mel e gengibre: um clássico para aliviar sintomas e fortalecer a imunidade.\",\n",
        "            \"Repouso adequado.\",\n",
        "            \"Inalação de vapor com folhas de eucalipto (com cuidado para não se queimar).\",\n",
        "            \"Sopas e caldos nutritivos e de fácil digestão.\"\n",
        "        ],\n",
        "        \"observacao_especifica\": \"Sintomas de gripe que se agravam ou duram muitos dias, especialmente com febre alta ou dificuldade respiratória, exigem atenção médica imediata.\"\n",
        "    },\n",
        "    \"azia\": {\n",
        "        \"descricao_criativa\": \"A azia, aquela queimação que sobe do estômago, é frequentemente um sinal de que algo na digestão não vai bem, como um fogo interno que precisa ser apaziguado.\",\n",
        "        \"abordagens_tradicionais\": [\n",
        "            \"Chá de boldo ou espinheira santa: conhecidos por auxiliar na digestão e proteger o estômago.\",\n",
        "            \"Evitar alimentos gordurosos, picantes, café e refrigerantes.\",\n",
        "            \"Comer devagar e em porções menores.\",\n",
        "            \"Não se deitar logo após as refeições.\"\n",
        "        ],\n",
        "        \"observacao_especifica\": \"Azia frequente pode ser sintoma de condições como refluxo gastroesofágico ou gastrite, que necessitam de diagnóstico e tratamento médico.\"\n",
        "    }\n",
        "}\n",
        "\n",
        "print(f\"Célula 3 executada: Base de conhecimento com {len(base_conhecimento_tradicional)} tópicos criada.\")\n",
        "# Exemplo de acesso\n",
        "# print(base_conhecimento_tradicional[\"dor de cabeça\"][\"descricao_criativa\"])"
      ],
      "metadata": {
        "id": "5d1u1KSs9Fpd",
        "outputId": "0bc4844a-2c6e-4c3f-9164-e806fc1149e8",
        "colab": {
          "base_uri": "https://localhost:8080/"
        }
      },
      "execution_count": null,
      "outputs": [
        {
          "output_type": "stream",
          "name": "stdout",
          "text": [
            "Célula 3 executada: Base de conhecimento com 4 tópicos criada.\n"
          ]
        }
      ]
    },
    {
      "cell_type": "code",
      "source": [
        "# Célula 4: Função para Buscar Informações na Base de Conhecimento\n",
        "import re # Para limpeza básica da query\n",
        "\n",
        "def buscar_na_base(query_usuario):\n",
        "    \"\"\"\n",
        "    Busca na base de conhecimento por palavras-chave da query do usuário.\n",
        "    Retorna o dicionário da condição encontrada ou None.\n",
        "    \"\"\"\n",
        "    query_limpa = re.sub(r'[^\\w\\s]', '', query_usuario.lower()) # Remove pontuação e deixa minúsculo\n",
        "    palavras_query = set(query_limpa.split())\n",
        "\n",
        "    melhor_match = None\n",
        "    max_palavras_comuns = 0\n",
        "\n",
        "    for condicao, dados in base_conhecimento_tradicional.items():\n",
        "        palavras_condicao = set(condicao.lower().split())\n",
        "        palavras_comuns = len(palavras_query.intersection(palavras_condicao))\n",
        "\n",
        "        # Simples heurística: a condição que tiver mais palavras em comum com a query\n",
        "        # e pelo menos uma palavra em comum.\n",
        "        if palavras_comuns > 0 and palavras_comuns > max_palavras_comuns:\n",
        "            max_palavras_comuns = palavras_comuns\n",
        "            melhor_match = dados\n",
        "        # Se a query for exatamente o nome da condição\n",
        "        elif condicao in query_limpa and len(palavras_query) <= 2: # Para queries curtas como \"gripe\"\n",
        "             melhor_match = dados\n",
        "             break # Match exato encontrado\n",
        "\n",
        "    return melhor_match\n",
        "\n",
        "print(\"Célula 4 executada: Função de busca na base de conhecimento definida.\")\n",
        "# Teste rápido da função de busca\n",
        "# teste_busca = buscar_na_base(\"Estou com dor de cabeça forte\")\n",
        "# if teste_busca:\n",
        "#     print(f\"Busca encontrou: {teste_busca['descricao_criativa']}\")\n",
        "# else:\n",
        "#     print(\"Busca não encontrou nada para 'dor de cabeça forte'.\")\n",
        "\n",
        "# teste_busca_azia = buscar_na_base(\"azia\")\n",
        "# if teste_busca_azia:\n",
        "#     print(f\"Busca encontrou: {teste_busca_azia['descricao_criativa']}\")\n",
        "# else:\n",
        "#     print(\"Busca não encontrou nada para 'azia'.\")"
      ],
      "metadata": {
        "id": "yPiC5VwZ9UOo",
        "outputId": "276e0a2a-f247-4ec6-ee6a-cc16c4c9ab35",
        "colab": {
          "base_uri": "https://localhost:8080/"
        }
      },
      "execution_count": null,
      "outputs": [
        {
          "output_type": "stream",
          "name": "stdout",
          "text": [
            "Célula 4 executada: Função de busca na base de conhecimento definida.\n"
          ]
        }
      ]
    },
    {
      "cell_type": "code",
      "source": [
        "# Célula 5: Função para Gerar Respostas Criativas e Concisas\n",
        "\n",
        "def gerar_resposta_tradicional(dados_condicao):\n",
        "    \"\"\"\n",
        "    Formata uma resposta amigável e informativa com base nos dados da condição.\n",
        "    \"\"\"\n",
        "    if not dados_condicao:\n",
        "        return (\"Peço desculpas, mas não encontrei informações específicas sobre isso em minha base de conhecimento tradicional no momento. \"\n",
        "                \"É fundamental que você procure um médico para avaliar sua situação.\" + obter_disclaimer_medico())\n",
        "\n",
        "    resposta = f\"Entendo que você busca informações sobre algo que se assemelha a {dados_condicao.get('descricao_criativa', 'uma condição específica')}\\n\\n\"\n",
        "    resposta += \"Na sabedoria popular e tradicional, algumas abordagens comuns incluem:\\n\"\n",
        "    for abordagem in dados_condicao.get(\"abordagens_tradicionais\", []):\n",
        "        resposta += f\"- {abordagem}\\n\"\n",
        "\n",
        "    if \"observacao_especifica\" in dados_condicao:\n",
        "        resposta += f\"\\nObservação importante sobre esta condição: {dados_condicao['observacao_especifica']}\"\n",
        "\n",
        "    resposta += obter_disclaimer_medico()\n",
        "    return resposta\n",
        "\n",
        "print(\"Célula 5 executada: Função para gerar respostas formatadas definida.\")\n",
        "# Teste rápido da formatação de resposta\n",
        "# dados_teste = base_conhecimento_tradicional.get(\"insônia\")\n",
        "# if dados_teste:\n",
        "#     print(gerar_resposta_tradicional(dados_teste))"
      ],
      "metadata": {
        "id": "LBbWXXjd9Z7p",
        "outputId": "29179a4d-6377-430b-8618-d383734d090a",
        "colab": {
          "base_uri": "https://localhost:8080/"
        }
      },
      "execution_count": null,
      "outputs": [
        {
          "output_type": "stream",
          "name": "stdout",
          "text": [
            "Célula 5 executada: Função para gerar respostas formatadas definida.\n"
          ]
        }
      ]
    },
    {
      "cell_type": "code",
      "source": [
        "# Célula 6: Lógica Principal do Agente de IA\n",
        "\n",
        "def processar_consulta_saude(query_usuario):\n",
        "    \"\"\"\n",
        "    Processa a consulta do usuário, busca na base e gera uma resposta.\n",
        "    \"\"\"\n",
        "    print(f\"\\n🔎 Processando sua consulta: '{query_usuario}'\")\n",
        "    dados_encontrados = buscar_na_base(query_usuario)\n",
        "    resposta_final = gerar_resposta_tradicional(dados_encontrados)\n",
        "    return resposta_final\n",
        "\n",
        "print(\"Célula 6 executada: Função principal de processamento de consulta definida.\")\n",
        "# Teste rápido do processamento\n",
        "# consulta_teste = \"O que fazer para insônia?\"\n",
        "# print(processar_consulta_saude(consulta_teste))"
      ],
      "metadata": {
        "id": "q_o1RBDQ9fNh",
        "outputId": "1197af25-2677-41c9-b081-8e1a21f0ea97",
        "colab": {
          "base_uri": "https://localhost:8080/"
        }
      },
      "execution_count": null,
      "outputs": [
        {
          "output_type": "stream",
          "name": "stdout",
          "text": [
            "Célula 6 executada: Função principal de processamento de consulta definida.\n"
          ]
        }
      ]
    },
    {
      "cell_type": "code",
      "source": [
        "# Célula 7: Interface de Usuário Simples (Entrada e Saída de Texto)\n",
        "\n",
        "def iniciar_chat_saude():\n",
        "    \"\"\"\n",
        "    Inicia um loop de chat com o usuário.\n",
        "    \"\"\"\n",
        "    print(\"\\n\" + \"=\"*50)\n",
        "    print(introducao_agente())\n",
        "    print(\"=\"*50)\n",
        "    print(\"Digite sua dúvida sobre saúde e medicina tradicional, ou 'sair' para terminar.\")\n",
        "\n",
        "    while True:\n",
        "        try:\n",
        "            query = input(\"\\nSua pergunta: \")\n",
        "            if query.strip().lower() == 'sair':\n",
        "                print(\"\\nObrigado por conversar! Lembre-se sempre de priorizar sua saúde e consultar um médico. Até logo! 👋\")\n",
        "                break\n",
        "            if not query.strip():\n",
        "                print(\"Por favor, digite algo.\")\n",
        "                continue\n",
        "\n",
        "            resposta_agente = processar_consulta_saude(query)\n",
        "            print(f\"\\n🤖 Assistente Tradicional:\\n{resposta_agente}\")\n",
        "\n",
        "        except EOFError: # Para o caso de interromper a célula no Colab\n",
        "            print(\"\\nChat encerrado.\")\n",
        "            break\n",
        "        except Exception as e:\n",
        "            print(f\"Ocorreu um erro inesperado: {e}\")\n",
        "            print(\"Por favor, tente novamente ou digite 'sair'.\")\n",
        "            print(obter_disclaimer_medico()) # Mesmo em erro, mostrar disclaimer\n",
        "\n",
        "print(\"Célula 7 executada: Interface de chat pronta. Para interagir, execute a função iniciar_chat_saude() na próxima célula.\")"
      ],
      "metadata": {
        "id": "xJEljWtQ9jvn",
        "outputId": "cd1f7015-4d03-4ca5-bd08-ceba549b59ec",
        "colab": {
          "base_uri": "https://localhost:8080/"
        }
      },
      "execution_count": null,
      "outputs": [
        {
          "output_type": "stream",
          "name": "stdout",
          "text": [
            "Célula 7 executada: Interface de chat pronta. Para interagir, execute a função iniciar_chat_saude() na próxima célula.\n"
          ]
        }
      ]
    },
    {
      "cell_type": "code",
      "source": [
        "# Célula 8: Execução do Agente de IA (Início da Interação)\n",
        "# Descomente a linha abaixo para iniciar o chat.\n",
        "# Se você executar esta célula diretamente, o chat começará.\n",
        "\n",
        "# iniciar_chat_saude()\n",
        "\n",
        "print(\"Célula 8 executada. Se desejar iniciar o chat, descomente e execute 'iniciar_chat_saude()'.\")\n",
        "print(\"Você pode chamar 'iniciar_chat_saude()' nesta célula ou na Célula 9 para testar.\")"
      ],
      "metadata": {
        "id": "PivMstkR9po4",
        "outputId": "eec70a34-896f-48db-89c8-ba81ea571038",
        "colab": {
          "base_uri": "https://localhost:8080/"
        }
      },
      "execution_count": null,
      "outputs": [
        {
          "output_type": "stream",
          "name": "stdout",
          "text": [
            "Célula 8 executada. Se desejar iniciar o chat, descomente e execute 'iniciar_chat_saude()'.\n",
            "Você pode chamar 'iniciar_chat_saude()' nesta célula ou na Célula 9 para testar.\n"
          ]
        }
      ]
    },
    {
      "cell_type": "code",
      "source": [
        "# Célula 9: Exemplos de Uso e Testes Adicionais\n",
        "\n",
        "print(\"Célula 9 executada: Pronta para exemplos e testes.\")\n",
        "\n",
        "# Exemplo 1: Consulta sobre dor de cabeça\n",
        "print(\"\\n--- Exemplo de Consulta 1 ---\")\n",
        "resposta1 = processar_consulta_saude(\"estou com muita dor de cabeça, o que posso fazer?\")\n",
        "print(f\"\\n🤖 Assistente Tradicional:\\n{resposta1}\")\n",
        "\n",
        "# Exemplo 2: Consulta sobre algo não existente na base\n",
        "print(\"\\n--- Exemplo de Consulta 2 (Tópico não existente) ---\")\n",
        "resposta2 = processar_consulta_saude(\"tenho dor no joelho\")\n",
        "print(f\"\\n🤖 Assistente Tradicional:\\n{resposta2}\")\n",
        "\n",
        "# Exemplo 3: Consulta sobre azia\n",
        "print(\"\\n--- Exemplo de Consulta 3 ---\")\n",
        "resposta3 = processar_consulta_saude(\"o que é bom para azia?\")\n",
        "print(f\"\\n🤖 Assistente Tradicional:\\n{resposta3}\")\n",
        "\n",
        "# Para iniciar o chat interativo, você pode executar aqui:\n",
        "# iniciar_chat_saude()"
      ],
      "metadata": {
        "id": "UY7-N_IQ9wcw",
        "outputId": "ea9cb52c-1ad8-4332-f0fb-a0eb4e5fab7b",
        "colab": {
          "base_uri": "https://localhost:8080/"
        }
      },
      "execution_count": null,
      "outputs": [
        {
          "output_type": "stream",
          "name": "stdout",
          "text": [
            "Célula 9 executada: Pronta para exemplos e testes.\n",
            "\n",
            "--- Exemplo de Consulta 1 ---\n",
            "\n",
            "🔎 Processando sua consulta: 'estou com muita dor de cabeça, o que posso fazer?'\n",
            "\n",
            "🤖 Assistente Tradicional:\n",
            "Entendo que você busca informações sobre algo que se assemelha a A dor de cabeça, esse incômodo que às vezes parece um tambor rufando em nossa mente, pode ter diversas origens. Na visão tradicional, muitas vezes está ligada a tensões, desequilíbrios energéticos ou até mesmo à alimentação.\n",
            "\n",
            "Na sabedoria popular e tradicional, algumas abordagens comuns incluem:\n",
            "- Chá de camomila ou erva-cidreira: conhecidos por suas propriedades calmantes.\n",
            "- Compressas frias na testa ou nuca.\n",
            "- Massagem suave nas têmporas e pescoço.\n",
            "- Evitar ambientes muito barulhentos ou com luz excessiva.\n",
            "\n",
            "Observação importante sobre esta condição: Dores de cabeça persistentes ou muito intensas requerem avaliação médica para descartar causas mais sérias.\n",
            "\n",
            "⚠️ **IMPORTANTE:** Estas informações são fornecidas com base em conhecimentos da medicina tradicional e têm caráter meramente informativo e educacional. Elas **NÃO substituem, de forma alguma,** a consulta, o diagnóstico e o tratamento realizado por um médico qualificado ou outro profissional de saúde. **Sempre procure orientação médica profissional para qualquer questão de saúde.** Não adie ou ignore o aconselhamento médico por algo que você leu aqui.\n",
            "\n",
            "--- Exemplo de Consulta 2 (Tópico não existente) ---\n",
            "\n",
            "🔎 Processando sua consulta: 'tenho dor no joelho'\n",
            "\n",
            "🤖 Assistente Tradicional:\n",
            "Entendo que você busca informações sobre algo que se assemelha a A dor de cabeça, esse incômodo que às vezes parece um tambor rufando em nossa mente, pode ter diversas origens. Na visão tradicional, muitas vezes está ligada a tensões, desequilíbrios energéticos ou até mesmo à alimentação.\n",
            "\n",
            "Na sabedoria popular e tradicional, algumas abordagens comuns incluem:\n",
            "- Chá de camomila ou erva-cidreira: conhecidos por suas propriedades calmantes.\n",
            "- Compressas frias na testa ou nuca.\n",
            "- Massagem suave nas têmporas e pescoço.\n",
            "- Evitar ambientes muito barulhentos ou com luz excessiva.\n",
            "\n",
            "Observação importante sobre esta condição: Dores de cabeça persistentes ou muito intensas requerem avaliação médica para descartar causas mais sérias.\n",
            "\n",
            "⚠️ **IMPORTANTE:** Estas informações são fornecidas com base em conhecimentos da medicina tradicional e têm caráter meramente informativo e educacional. Elas **NÃO substituem, de forma alguma,** a consulta, o diagnóstico e o tratamento realizado por um médico qualificado ou outro profissional de saúde. **Sempre procure orientação médica profissional para qualquer questão de saúde.** Não adie ou ignore o aconselhamento médico por algo que você leu aqui.\n",
            "\n",
            "--- Exemplo de Consulta 3 ---\n",
            "\n",
            "🔎 Processando sua consulta: 'o que é bom para azia?'\n",
            "\n",
            "🤖 Assistente Tradicional:\n",
            "Entendo que você busca informações sobre algo que se assemelha a A azia, aquela queimação que sobe do estômago, é frequentemente um sinal de que algo na digestão não vai bem, como um fogo interno que precisa ser apaziguado.\n",
            "\n",
            "Na sabedoria popular e tradicional, algumas abordagens comuns incluem:\n",
            "- Chá de boldo ou espinheira santa: conhecidos por auxiliar na digestão e proteger o estômago.\n",
            "- Evitar alimentos gordurosos, picantes, café e refrigerantes.\n",
            "- Comer devagar e em porções menores.\n",
            "- Não se deitar logo após as refeições.\n",
            "\n",
            "Observação importante sobre esta condição: Azia frequente pode ser sintoma de condições como refluxo gastroesofágico ou gastrite, que necessitam de diagnóstico e tratamento médico.\n",
            "\n",
            "⚠️ **IMPORTANTE:** Estas informações são fornecidas com base em conhecimentos da medicina tradicional e têm caráter meramente informativo e educacional. Elas **NÃO substituem, de forma alguma,** a consulta, o diagnóstico e o tratamento realizado por um médico qualificado ou outro profissional de saúde. **Sempre procure orientação médica profissional para qualquer questão de saúde.** Não adie ou ignore o aconselhamento médico por algo que você leu aqui.\n"
          ]
        }
      ]
    },
    {
      "cell_type": "code",
      "source": [
        "# Célula 10: Considerações Finais, Métricas de Avaliação (Conceitual) e Próximos Passos\n",
        "\n",
        "print(\"Célula 10 executada: Considerações finais.\")\n",
        "\n",
        "print(\"\\n--- Considerações sobre o Agente de IA de Medicina Tradicional ---\")\n",
        "print(\"\"\"\n",
        "Este agente de IA foi desenvolvido como um protótipo para fornecer informações sobre\n",
        "medicina tradicional, com um forte foco na importância do aconselhamento médico profissional.\n",
        "\n",
        "Principais Características Implementadas:\n",
        "1.  **Base de Conhecimento Curada:** Um pequeno conjunto de condições e abordagens tradicionais.\n",
        "2.  **Persona Específica:** Comunicação empática, criativa e focada no bem-estar.\n",
        "3.  **Disclaimer Obrigatório:** Todas as respostas incluem um aviso para consultar um médico.\n",
        "4.  **Busca Simples:** Mecanismo básico de correspondência de palavras-chave.\n",
        "5.  **Estrutura Modular:** Código dividido em células lógicas para Colab.\n",
        "6.  **Idioma:** Português do Brasil.\n",
        "\"\"\")\n",
        "\n",
        "print(\"\\n--- Métricas de Avaliação (Conceituais) ---\")\n",
        "print(\"\"\"\n",
        "Para avaliar a eficácia deste agente, poderíamos considerar:\n",
        "1.  **Clareza e Precisão das Informações:** Quão bem as informações tradicionais são apresentadas (sempre lembrando que não é diagnóstico).\n",
        "2.  **Presença e Clareza do Disclaimer Médico:** Verificar se o disclaimer está sempre presente e é compreensível.\n",
        "3.  **Adequação da Persona:** A linguagem e o tom estão alinhados com a persona de 'médico tradicionalista' proposto?\n",
        "4.  **Cobertura da Base de Conhecimento:** Quão bem o agente responde a uma variedade de perguntas dentro do seu escopo.\n",
        "5.  **Satisfação do Usuário (Percebida):** Coletar feedback sobre se o usuário achou a informação útil (como ponto de partida para discussão com um médico) e se a interação foi agradável.\n",
        "6.  **Taxa de Respostas 'Não Sei':** Quantas vezes o agente não encontra informação relevante (o que é esperado e correto para tópicos fora da base).\n",
        "\"\"\")\n",
        "\n",
        "print(\"\\n--- Próximos Passos e Possíveis Melhorias ---\")\n",
        "print(\"\"\"\n",
        "1.  **Expandir a Base de Conhecimento:** Adicionar mais condições, plantas, práticas e tradições.\n",
        "2.  **Melhorar o Mecanismo de Busca/NLP:** Implementar técnicas de Processamento de Linguagem Natural (NLP) mais sofisticadas\n",
        "    (ex: TF-IDF, word embeddings, ou até mesmo modelos de linguagem menores) para entender melhor as nuances das perguntas.\n",
        "3.  **Integração com Fontes Externas:** Conectar a bases de dados mais robustas e atualizadas sobre medicina tradicional.\n",
        "4.  **Personalização:** Permitir que o usuário, talvez, especifique interesse em uma tradição específica (Ayurveda, MTC, etc.).\n",
        "5.  **Interface Gráfica:** Desenvolver uma interface de usuário mais rica, se o agente for sair do ambiente Colab.\n",
        "6.  **Coleta de Feedback:** Implementar um sistema para que os usuários possam avaliar as respostas.\n",
        "7.  **Refinamento da Persona e Criatividade:** Usar técnicas de geração de texto mais avançadas para tornar as explicações\n",
        "    ainda mais criativas e engajadoras, sempre mantendo a precisão e o foco na segurança.\n",
        "\"\"\")\n",
        "\n",
        "print(\"\\nLembre-se: Este é um projeto com grande potencial, mas a responsabilidade na área da saúde é primordial. O foco deve ser sempre em educar e encaminhar para o cuidado profissional.\")"
      ],
      "metadata": {
        "id": "FE2DC0XL94qh",
        "outputId": "7498691d-09ec-43e0-e7ba-7df9a512b892",
        "colab": {
          "base_uri": "https://localhost:8080/"
        }
      },
      "execution_count": null,
      "outputs": [
        {
          "output_type": "stream",
          "name": "stdout",
          "text": [
            "Célula 10 executada: Considerações finais.\n",
            "\n",
            "--- Considerações sobre o Agente de IA de Medicina Tradicional ---\n",
            "\n",
            "Este agente de IA foi desenvolvido como um protótipo para fornecer informações sobre\n",
            "medicina tradicional, com um forte foco na importância do aconselhamento médico profissional.\n",
            "\n",
            "Principais Características Implementadas:\n",
            "1.  **Base de Conhecimento Curada:** Um pequeno conjunto de condições e abordagens tradicionais.\n",
            "2.  **Persona Específica:** Comunicação empática, criativa e focada no bem-estar.\n",
            "3.  **Disclaimer Obrigatório:** Todas as respostas incluem um aviso para consultar um médico.\n",
            "4.  **Busca Simples:** Mecanismo básico de correspondência de palavras-chave.\n",
            "5.  **Estrutura Modular:** Código dividido em células lógicas para Colab.\n",
            "6.  **Idioma:** Português do Brasil.\n",
            "\n",
            "\n",
            "--- Métricas de Avaliação (Conceituais) ---\n",
            "\n",
            "Para avaliar a eficácia deste agente, poderíamos considerar:\n",
            "1.  **Clareza e Precisão das Informações:** Quão bem as informações tradicionais são apresentadas (sempre lembrando que não é diagnóstico).\n",
            "2.  **Presença e Clareza do Disclaimer Médico:** Verificar se o disclaimer está sempre presente e é compreensível.\n",
            "3.  **Adequação da Persona:** A linguagem e o tom estão alinhados com a persona de 'médico tradicionalista' proposto?\n",
            "4.  **Cobertura da Base de Conhecimento:** Quão bem o agente responde a uma variedade de perguntas dentro do seu escopo.\n",
            "5.  **Satisfação do Usuário (Percebida):** Coletar feedback sobre se o usuário achou a informação útil (como ponto de partida para discussão com um médico) e se a interação foi agradável.\n",
            "6.  **Taxa de Respostas 'Não Sei':** Quantas vezes o agente não encontra informação relevante (o que é esperado e correto para tópicos fora da base).\n",
            "\n",
            "\n",
            "--- Próximos Passos e Possíveis Melhorias ---\n",
            "\n",
            "1.  **Expandir a Base de Conhecimento:** Adicionar mais condições, plantas, práticas e tradições.\n",
            "2.  **Melhorar o Mecanismo de Busca/NLP:** Implementar técnicas de Processamento de Linguagem Natural (NLP) mais sofisticadas\n",
            "    (ex: TF-IDF, word embeddings, ou até mesmo modelos de linguagem menores) para entender melhor as nuances das perguntas.\n",
            "3.  **Integração com Fontes Externas:** Conectar a bases de dados mais robustas e atualizadas sobre medicina tradicional.\n",
            "4.  **Personalização:** Permitir que o usuário, talvez, especifique interesse em uma tradição específica (Ayurveda, MTC, etc.).\n",
            "5.  **Interface Gráfica:** Desenvolver uma interface de usuário mais rica, se o agente for sair do ambiente Colab.\n",
            "6.  **Coleta de Feedback:** Implementar um sistema para que os usuários possam avaliar as respostas.\n",
            "7.  **Refinamento da Persona e Criatividade:** Usar técnicas de geração de texto mais avançadas para tornar as explicações\n",
            "    ainda mais criativas e engajadoras, sempre mantendo a precisão e o foco na segurança.\n",
            "\n",
            "\n",
            "Lembre-se: Este é um projeto com grande potencial, mas a responsabilidade na área da saúde é primordial. O foco deve ser sempre em educar e encaminhar para o cuidado profissional.\n"
          ]
        }
      ]
    },
    {
      "cell_type": "code",
      "source": [],
      "metadata": {
        "id": "aEB-1OZD-TzJ"
      },
      "execution_count": null,
      "outputs": []
    }
  ],
  "metadata": {
    "colab": {
      "provenance": [],
      "include_colab_link": true
    },
    "kernelspec": {
      "display_name": "Python 3",
      "name": "python3"
    }
  },
  "nbformat": 4,
  "nbformat_minor": 0
}